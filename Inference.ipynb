{
  "nbformat": 4,
  "nbformat_minor": 0,
  "metadata": {
    "colab": {
      "name": "RGB2Unet_ROI.ipynb",
      "provenance": [],
      "collapsed_sections": []
    },
    "kernelspec": {
      "name": "python3",
      "display_name": "Python 3"
    }
  },
  "cells": [
    {
      "cell_type": "code",
      "metadata": {
        "id": "MrT7E3ed6VmA",
        "colab_type": "code",
        "outputId": "2c1f8a08-ac05-403d-901b-3d0f8bb6b72a",
        "colab": {
          "base_uri": "https://localhost:8080/",
          "height": 54
        }
      },
      "source": [
        "from google.colab import drive\n",
        "drive.mount('/content/drive')"
      ],
      "execution_count": 0,
      "outputs": [
        {
          "output_type": "stream",
          "text": [
            "Drive already mounted at /content/drive; to attempt to forcibly remount, call drive.mount(\"/content/drive\", force_remount=True).\n"
          ],
          "name": "stdout"
        }
      ]
    },
    {
      "cell_type": "code",
      "metadata": {
        "colab_type": "code",
        "id": "ONQvZVp-6Ys1",
        "colab": {}
      },
      "source": [
        "import keras\n",
        "from keras.models import load_model\n",
        "from PIL import Image\n",
        "import numpy as np\n",
        "from keras import backend as K\n",
        "import tensorflow as tf\n",
        "\n",
        "import glob"
      ],
      "execution_count": 0,
      "outputs": []
    },
    {
      "cell_type": "code",
      "metadata": {
        "id": "vD6VxYwQ6MOK",
        "colab_type": "code",
        "colab": {}
      },
      "source": [
        "def dice_coef(y_true, y_pred):\n",
        "    smooth = 1.\n",
        "    y_true_f = K.flatten(y_true)\n",
        "    y_pred_f = K.flatten(y_pred)\n",
        "    intersection = K.sum(y_true_f * y_pred_f)\n",
        "    return (2. * intersection + smooth) / (K.sum(y_true_f) + K.sum(y_pred_f) + smooth)\n",
        "\n",
        "def mean_iou(y_true, y_pred):\n",
        "    prec = []\n",
        "    for t in np.arange(0.5, 1.0, 0.05):\n",
        "        y_pred_ = tf.to_int32(y_pred > t)\n",
        "        score, up_opt = tf.metrics.mean_iou(y_true, y_pred_, 2)\n",
        "        K.get_session().run(tf.local_variables_initializer())\n",
        "        with tf.control_dependencies([up_opt]):\n",
        "            score = tf.identity(score)\n",
        "        prec.append(score)\n",
        "    return K.mean(K.stack(prec), axis=0)\n",
        "def bce_dice_loss(y_true, y_pred):\n",
        "    return 0.5 * keras.losses.binary_crossentropy(y_true, y_pred) - dice_coef(y_true, y_pred)\n"
      ],
      "execution_count": 0,
      "outputs": []
    },
    {
      "cell_type": "code",
      "metadata": {
        "id": "jzY3Z8OG6POO",
        "colab_type": "code",
        "colab": {}
      },
      "source": [
        "width = 704\n",
        "height = 1152\n",
        "channel = 1\n",
        "\n",
        "load_model = keras.models.load_model('/content/drive/My Drive/NTHU/HW03/weights-1206E10.hdf5',custom_objects={'bce_dice_loss': bce_dice_loss,'mean_iou':mean_iou})\n",
        "\n",
        "filelist = glob.glob('/content/drive/My Drive/NTHU/HW03/ccpd6000/train_images/*.jpg')\n",
        "for i in range(0, len(filelist),1 ):\n",
        "\n",
        "    test_images = np.array([np.array(Image.open(filelist[i]).convert('L'))])\n",
        "    test_images = test_images / 255.0\n",
        "    test_images = test_images[:, 0:height, 0:width]\n",
        "    test_images = test_images.reshape((test_images.shape[0], height, width,channel))\n",
        "\n",
        "    result = load_model.predict(test_images)\n",
        "\n",
        "    result = result * 255\n",
        "    result[0] = result[0].astype(np.int_)\n",
        "\n",
        "\n",
        "    pic = result[0].reshape(height,width)\n",
        "    img = Image.fromarray(pic)\n",
        "    img = img.convert('RGB')\n",
        "    img.save(\"/content/drive/My Drive/NTHU/HW03/ccpd6000/ROI_img/\"+str(i).zfill(4)  +\".jpg\")\n",
        "\n",
        "\n",
        "filelist = glob.glob('/content/drive/My Drive/NTHU/HW03/ccpd6000/test_images/*.jpg')\n",
        "for i in range(0, len(filelist),1 ):\n",
        "\n",
        "    test_images = np.array([np.array(Image.open(filelist[i]).convert('L'))])\n",
        "    test_images = test_images / 255.0\n",
        "    test_images = test_images[:, 0:height, 0:width]\n",
        "    test_images = test_images.reshape((test_images.shape[0], height, width,channel))\n",
        "\n",
        "    result = load_model.predict(test_images)\n",
        "\n",
        "    result = result * 255\n",
        "    result[0] = result[0].astype(np.int_)\n",
        "\n",
        "\n",
        "    pic = result[0].reshape(height,width)\n",
        "    img = Image.fromarray(pic)\n",
        "    img = img.convert('RGB')\n",
        "    img.save(\"/content/drive/My Drive/NTHU/HW03/ccpd6000/test_ROI/\"+str(i).zfill(4)  +\".jpg\")"
      ],
      "execution_count": 0,
      "outputs": []
    }
  ]
}